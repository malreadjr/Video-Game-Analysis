{
 "cells": [
  {
   "cell_type": "code",
   "execution_count": 655,
   "metadata": {},
   "outputs": [],
   "source": [
    "import pandas as pd"
   ]
  },
  {
   "cell_type": "code",
   "execution_count": 656,
   "metadata": {},
   "outputs": [],
   "source": [
    "working_file = \"Resources/purchase_data.csv\""
   ]
  },
  {
   "cell_type": "code",
   "execution_count": 657,
   "metadata": {},
   "outputs": [],
   "source": [
    "purchase_data_df = pd.read_csv(working_file)"
   ]
  },
  {
   "cell_type": "code",
   "execution_count": 658,
   "metadata": {
    "tags": []
   },
   "outputs": [
    {
     "name": "stdout",
     "output_type": "stream",
     "text": [
      "Total Players\n",
      "576\n"
     ]
    }
   ],
   "source": [
    "unique_value = purchase_data_df[\"SN\"].nunique()\n",
    "print(\"Total Players\")\n",
    "print(unique_value)"
   ]
  },
  {
   "cell_type": "code",
   "execution_count": 659,
   "metadata": {},
   "outputs": [
    {
     "data": {
      "text/html": [
       "<div>\n",
       "<style scoped>\n",
       "    .dataframe tbody tr th:only-of-type {\n",
       "        vertical-align: middle;\n",
       "    }\n",
       "\n",
       "    .dataframe tbody tr th {\n",
       "        vertical-align: top;\n",
       "    }\n",
       "\n",
       "    .dataframe thead th {\n",
       "        text-align: right;\n",
       "    }\n",
       "</style>\n",
       "<table border=\"1\" class=\"dataframe\">\n",
       "  <thead>\n",
       "    <tr style=\"text-align: right;\">\n",
       "      <th></th>\n",
       "      <th>Total Players</th>\n",
       "    </tr>\n",
       "  </thead>\n",
       "  <tbody>\n",
       "    <tr>\n",
       "      <th>0</th>\n",
       "      <td>576</td>\n",
       "    </tr>\n",
       "  </tbody>\n",
       "</table>\n",
       "</div>"
      ],
      "text/plain": [
       "   Total Players\n",
       "0            576"
      ]
     },
     "execution_count": 659,
     "metadata": {},
     "output_type": "execute_result"
    }
   ],
   "source": [
    "summary_df = pd.DataFrame({\"Total Players\": [unique_value]})\n",
    "summary_df"
   ]
  },
  {
   "cell_type": "code",
   "execution_count": 660,
   "metadata": {
    "tags": []
   },
   "outputs": [
    {
     "name": "stdout",
     "output_type": "stream",
     "text": [
      "179\n"
     ]
    }
   ],
   "source": [
    "Num_unique = len(purchase_data_df[\"Item ID\"].unique())\n",
    "print(Num_unique)"
   ]
  },
  {
   "cell_type": "code",
   "execution_count": 661,
   "metadata": {
    "tags": []
   },
   "outputs": [
    {
     "name": "stdout",
     "output_type": "stream",
     "text": [
      "3.050987179487176\n"
     ]
    }
   ],
   "source": [
    "Average_price = purchase_data_df[\"Price\"].mean()\n",
    "print(Average_price)"
   ]
  },
  {
   "cell_type": "code",
   "execution_count": 662,
   "metadata": {
    "tags": []
   },
   "outputs": [
    {
     "name": "stdout",
     "output_type": "stream",
     "text": [
      "780\n"
     ]
    }
   ],
   "source": [
    "Num_purchase = purchase_data_df[\"Purchase ID\"].count()\n",
    "print(Num_purchase)"
   ]
  },
  {
   "cell_type": "code",
   "execution_count": 663,
   "metadata": {
    "tags": []
   },
   "outputs": [
    {
     "name": "stdout",
     "output_type": "stream",
     "text": [
      "2379.77\n"
     ]
    }
   ],
   "source": [
    "Total_revenue = purchase_data_df[\"Price\"].sum()\n",
    "print(Total_revenue)"
   ]
  },
  {
   "cell_type": "code",
   "execution_count": 15,
   "metadata": {},
   "outputs": [
    {
     "data": {
      "text/html": [
       "<div>\n",
       "<style scoped>\n",
       "    .dataframe tbody tr th:only-of-type {\n",
       "        vertical-align: middle;\n",
       "    }\n",
       "\n",
       "    .dataframe tbody tr th {\n",
       "        vertical-align: top;\n",
       "    }\n",
       "\n",
       "    .dataframe thead th {\n",
       "        text-align: right;\n",
       "    }\n",
       "</style>\n",
       "<table border=\"1\" class=\"dataframe\">\n",
       "  <thead>\n",
       "    <tr style=\"text-align: right;\">\n",
       "      <th></th>\n",
       "      <th>Number of Unique Items</th>\n",
       "      <th>Average Price</th>\n",
       "      <th>Number of Purchases</th>\n",
       "      <th>Total Revenue</th>\n",
       "    </tr>\n",
       "  </thead>\n",
       "  <tbody>\n",
       "    <tr>\n",
       "      <th>0</th>\n",
       "      <td>179</td>\n",
       "      <td>Average_price</td>\n",
       "      <td>780</td>\n",
       "      <td>2379.77</td>\n",
       "    </tr>\n",
       "  </tbody>\n",
       "</table>\n",
       "</div>"
      ],
      "text/plain": [
       "   Number of Unique Items  Average Price  Number of Purchases  Total Revenue\n",
       "0                     179  Average_price                  780        2379.77"
      ]
     },
     "execution_count": 15,
     "metadata": {},
     "output_type": "execute_result"
    }
   ],
   "source": [
    "summary_df = pd.DataFrame({\"Number of Unique Items\": [Num_unique],\n",
    "                              \"Average Price\": ['Average_price'],\n",
    "                              \"Number of Purchases\": [Num_purchase],\n",
    "\n",
    "                              \"Total Revenue\": [Total_revenue]})\n",
    "summary_df"
   ]
  },
  {
   "cell_type": "code",
   "execution_count": 665,
   "metadata": {},
   "outputs": [
    {
     "data": {
      "text/html": [
       "<div>\n",
       "<style scoped>\n",
       "    .dataframe tbody tr th:only-of-type {\n",
       "        vertical-align: middle;\n",
       "    }\n",
       "\n",
       "    .dataframe tbody tr th {\n",
       "        vertical-align: top;\n",
       "    }\n",
       "\n",
       "    .dataframe thead th {\n",
       "        text-align: right;\n",
       "    }\n",
       "</style>\n",
       "<table border=\"1\" class=\"dataframe\">\n",
       "  <thead>\n",
       "    <tr style=\"text-align: right;\">\n",
       "      <th></th>\n",
       "      <th>Total Count</th>\n",
       "      <th>Percentage of Players</th>\n",
       "    </tr>\n",
       "  </thead>\n",
       "  <tbody>\n",
       "    <tr>\n",
       "      <th>Male</th>\n",
       "      <td>484</td>\n",
       "      <td>84.03%</td>\n",
       "    </tr>\n",
       "    <tr>\n",
       "      <th>Female</th>\n",
       "      <td>81</td>\n",
       "      <td>14.06%</td>\n",
       "    </tr>\n",
       "    <tr>\n",
       "      <th>Other / Non-Disclosed</th>\n",
       "      <td>11</td>\n",
       "      <td>1.91%</td>\n",
       "    </tr>\n",
       "  </tbody>\n",
       "</table>\n",
       "</div>"
      ],
      "text/plain": [
       "                       Total Count Percentage of Players\n",
       "Male                           484                84.03%\n",
       "Female                          81                14.06%\n",
       "Other / Non-Disclosed           11                 1.91%"
      ]
     },
     "execution_count": 665,
     "metadata": {},
     "output_type": "execute_result"
    }
   ],
   "source": [
    "pdfmale = purchase_data_df.copy()\n",
    "pdffemale = purchase_data_df.copy()\n",
    "pdfother = purchase_data_df.copy()\n",
    "\n",
    "unique_sn_males = purchase_data_df[['SN','Gender']]\n",
    "filter_male = pdfmale['Gender']==\"Male\"\n",
    "filter_female = pdffemale['Gender']==\"Female\"\n",
    "filter_other = pdfother['Gender']==\"Other / Non-Disclosed\"\n",
    "\n",
    "pdfmale.where(filter_male,inplace=True)\n",
    "pdffemale.where(filter_female,inplace=True)\n",
    "pdfother.where(filter_other,inplace=True)\n",
    "\n",
    "summary_df = pd.DataFrame({\"Total Count\": [pdfmale['SN'].nunique(),pdffemale['SN'].nunique(),pdfother['SN'].nunique()], \n",
    "\"Percentage of Players\":['{:,.2%}'.format(pdfmale['SN'].nunique() / unique_value),'{:,.2%}'.format(pdffemale['SN'].nunique()/unique_value),'{:,.2%}'.format(pdfother['SN'].nunique()/unique_value)]},\n",
    "index=['Male', 'Female', 'Other / Non-Disclosed'])\n",
    "\n",
    "summary_df\n"
   ]
  },
  {
   "cell_type": "code",
   "execution_count": 666,
   "metadata": {},
   "outputs": [
    {
     "data": {
      "text/html": [
       "<div>\n",
       "<style scoped>\n",
       "    .dataframe tbody tr th:only-of-type {\n",
       "        vertical-align: middle;\n",
       "    }\n",
       "\n",
       "    .dataframe tbody tr th {\n",
       "        vertical-align: top;\n",
       "    }\n",
       "\n",
       "    .dataframe thead th {\n",
       "        text-align: right;\n",
       "    }\n",
       "</style>\n",
       "<table border=\"1\" class=\"dataframe\">\n",
       "  <thead>\n",
       "    <tr style=\"text-align: right;\">\n",
       "      <th></th>\n",
       "      <th>Purchase Count</th>\n",
       "      <th>Average Purchase Price</th>\n",
       "      <th>Total Purchase Value</th>\n",
       "      <th>Avg Total Purchase per Person</th>\n",
       "    </tr>\n",
       "  </thead>\n",
       "  <tbody>\n",
       "    <tr>\n",
       "      <th>Gender</th>\n",
       "      <td></td>\n",
       "      <td></td>\n",
       "      <td></td>\n",
       "      <td></td>\n",
       "    </tr>\n",
       "    <tr>\n",
       "      <th>Female</th>\n",
       "      <td>113</td>\n",
       "      <td>$3.20</td>\n",
       "      <td>$361.94</td>\n",
       "      <td>$4.47</td>\n",
       "    </tr>\n",
       "    <tr>\n",
       "      <th>Male</th>\n",
       "      <td>652</td>\n",
       "      <td>$3.02</td>\n",
       "      <td>$1,967.64</td>\n",
       "      <td>$4.07</td>\n",
       "    </tr>\n",
       "    <tr>\n",
       "      <th>Other / Non-Disclosed</th>\n",
       "      <td>15</td>\n",
       "      <td>$3.35</td>\n",
       "      <td>$50.19</td>\n",
       "      <td>$4.56</td>\n",
       "    </tr>\n",
       "  </tbody>\n",
       "</table>\n",
       "</div>"
      ],
      "text/plain": [
       "                      Purchase Count Average Purchase Price  \\\n",
       "Gender                                                        \n",
       "Female                           113                  $3.20   \n",
       "Male                             652                  $3.02   \n",
       "Other / Non-Disclosed             15                  $3.35   \n",
       "\n",
       "                      Total Purchase Value Avg Total Purchase per Person  \n",
       "Gender                                                                    \n",
       "Female                             $361.94                         $4.47  \n",
       "Male                             $1,967.64                         $4.07  \n",
       "Other / Non-Disclosed               $50.19                         $4.56  "
      ]
     },
     "execution_count": 666,
     "metadata": {},
     "output_type": "execute_result"
    }
   ],
   "source": [
    "pdfmale = purchase_data_df.copy()\n",
    "pdffemale = purchase_data_df.copy()\n",
    "pdfother = purchase_data_df.copy()\n",
    "\n",
    "filter_male = pdfmale['Gender']==\"Male\"\n",
    "filter_female = pdffemale['Gender']==\"Female\"\n",
    "filter_other = pdfother['Gender']==\"Other / Non-Disclosed\"\n",
    "\n",
    "pdfmale.where(filter_male,inplace=True)\n",
    "pdffemale.where(filter_female,inplace=True)\n",
    "pdfother.where(filter_other,inplace=True)\n",
    "\n",
    "summary_df = pd.DataFrame({\"Purchase Count\": [\"\",pdffemale['SN'].count(),pdfmale['SN'].count(),pdfother['SN'].count()],\n",
    "\"Average Purchase Price\": [\"\",'${:,.2f}'.format(pdffemale['Price'].mean()),'${:,.2f}'.format(pdfmale['Price'].mean()),'${:,.2f}'.format(pdfother['Price'].mean())],\n",
    "\"Total Purchase Value\": [\"\",'${:,.2f}'.format(pdffemale['Price'].sum()),'${:,.2f}'.format(pdfmale['Price'].sum()),'${:,.2f}'.format(pdfother['Price'].sum())],\n",
    "\"Avg Total Purchase per Person\": [\"\",'${:,.2f}'.format(pdffemale['Price'].sum()/pdffemale['SN'].nunique()),'${:,.2f}'.format(pdfmale['Price'].sum()/pdfmale['SN'].nunique()),'${:,.2f}'.format(pdfother['Price'].sum()/pdfother['SN'].nunique())]\n",
    "},\n",
    "index=['Gender','Female','Male', 'Other / Non-Disclosed'])\n",
    "\n",
    "summary_df\n"
   ]
  },
  {
   "cell_type": "code",
   "execution_count": 667,
   "metadata": {},
   "outputs": [
    {
     "data": {
      "text/html": [
       "<div>\n",
       "<style scoped>\n",
       "    .dataframe tbody tr th:only-of-type {\n",
       "        vertical-align: middle;\n",
       "    }\n",
       "\n",
       "    .dataframe tbody tr th {\n",
       "        vertical-align: top;\n",
       "    }\n",
       "\n",
       "    .dataframe thead th {\n",
       "        text-align: right;\n",
       "    }\n",
       "</style>\n",
       "<table border=\"1\" class=\"dataframe\">\n",
       "  <thead>\n",
       "    <tr style=\"text-align: right;\">\n",
       "      <th></th>\n",
       "      <th>Total Count</th>\n",
       "      <th>Percentage of Players</th>\n",
       "    </tr>\n",
       "  </thead>\n",
       "  <tbody>\n",
       "    <tr>\n",
       "      <th>&lt;10</th>\n",
       "      <td>17</td>\n",
       "      <td>2.95%</td>\n",
       "    </tr>\n",
       "    <tr>\n",
       "      <th>10-14</th>\n",
       "      <td>22</td>\n",
       "      <td>3.82%</td>\n",
       "    </tr>\n",
       "    <tr>\n",
       "      <th>15-19</th>\n",
       "      <td>107</td>\n",
       "      <td>18.58%</td>\n",
       "    </tr>\n",
       "    <tr>\n",
       "      <th>20-24</th>\n",
       "      <td>258</td>\n",
       "      <td>44.79%</td>\n",
       "    </tr>\n",
       "    <tr>\n",
       "      <th>25-29</th>\n",
       "      <td>77</td>\n",
       "      <td>13.37%</td>\n",
       "    </tr>\n",
       "    <tr>\n",
       "      <th>30-34</th>\n",
       "      <td>52</td>\n",
       "      <td>9.03%</td>\n",
       "    </tr>\n",
       "    <tr>\n",
       "      <th>35-39</th>\n",
       "      <td>31</td>\n",
       "      <td>5.38%</td>\n",
       "    </tr>\n",
       "    <tr>\n",
       "      <th>40+</th>\n",
       "      <td>12</td>\n",
       "      <td>2.08%</td>\n",
       "    </tr>\n",
       "  </tbody>\n",
       "</table>\n",
       "</div>"
      ],
      "text/plain": [
       "       Total Count Percentage of Players\n",
       "&lt;10             17                 2.95%\n",
       "10-14           22                 3.82%\n",
       "15-19          107                18.58%\n",
       "20-24          258                44.79%\n",
       "25-29           77                13.37%\n",
       "30-34           52                 9.03%\n",
       "35-39           31                 5.38%\n",
       "40+             12                 2.08%"
      ]
     },
     "execution_count": 667,
     "metadata": {},
     "output_type": "execute_result"
    }
   ],
   "source": [
    "\n",
    "\n",
    "pdfage = purchase_data_df.copy()\n",
    "\n",
    "summary_df = pd.DataFrame(\n",
    "{\n",
    "    \"Total Count\":[\n",
    "        pdfage.where(pdfage['Age']<10)['SN'].nunique(),\n",
    "        pdfage.where(pdfage['Age'].between(10,14))['SN'].nunique(),\n",
    "        pdfage.where(pdfage['Age'].between(15,19))['SN'].nunique(),\n",
    "        pdfage.where(pdfage['Age'].between(20,24))['SN'].nunique(),\n",
    "        pdfage.where(pdfage['Age'].between(25,29))['SN'].nunique(),\n",
    "        pdfage.where(pdfage['Age'].between(30,34))['SN'].nunique(),\n",
    "        pdfage.where(pdfage['Age'].between(35,39))['SN'].nunique(),\n",
    "        pdfage.where(pdfage['Age']>=40)['SN'].nunique()\n",
    "        ],\n",
    "\"Percentage of Players\":[\n",
    "    '{:,.2%}'.format(pdfage.where(pdfage['Age']<10)['SN'].nunique()/pdfage['SN'].nunique()),\n",
    "    '{:,.2%}'.format(pdfage.where(pdfage['Age'].between(10,14))['SN'].nunique()/pdfage['SN'].nunique()),\n",
    "    '{:,.2%}'.format(pdfage.where(pdfage['Age'].between(15,19))['SN'].nunique()/pdfage['SN'].nunique()),\n",
    "    '{:,.2%}'.format(pdfage.where(pdfage['Age'].between(20,24))['SN'].nunique()/pdfage['SN'].nunique()),\n",
    "    '{:,.2%}'.format(pdfage.where(pdfage['Age'].between(25,29))['SN'].nunique()/pdfage['SN'].nunique()),\n",
    "    '{:,.2%}'.format(pdfage.where(pdfage['Age'].between(30,34))['SN'].nunique()/pdfage['SN'].nunique()),\n",
    "    '{:,.2%}'.format(pdfage.where(pdfage['Age'].between(35,39))['SN'].nunique()/pdfage['SN'].nunique()),\n",
    "    '{:,.2%}'.format(pdfage.where(pdfage['Age']>=40)['SN'].nunique()/pdfage['SN'].nunique())]\n",
    "    },\n",
    "index=['<10','10-14','15-19','20-24','25-29','30-34','35-39','40+'])\n",
    "summary_df"
   ]
  }
 ],
 "metadata": {
  "kernelspec": {
   "display_name": "Python 3",
   "language": "python",
   "name": "python3"
  },
  "language_info": {
   "codemirror_mode": {
    "name": "ipython",
    "version": 3
   },
   "file_extension": ".py",
   "mimetype": "text/x-python",
   "name": "python",
   "nbconvert_exporter": "python",
   "pygments_lexer": "ipython3",
   "version": "3.8.3"
  }
 },
 "nbformat": 4,
 "nbformat_minor": 4
}
