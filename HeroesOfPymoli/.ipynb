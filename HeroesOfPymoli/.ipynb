{
 "cells": [
  {
   "cell_type": "code",
   "execution_count": 1,
   "metadata": {},
   "outputs": [],
   "source": [
    "import pandas as pd"
   ]
  },
  {
   "cell_type": "code",
   "execution_count": 2,
   "metadata": {},
   "outputs": [],
   "source": [
    "working_file = \"Resources/purchase_data.csv\""
   ]
  },
  {
   "cell_type": "code",
   "execution_count": 3,
   "metadata": {},
   "outputs": [],
   "source": [
    "purchase_data_df = pd.read_csv(working_file)"
   ]
  },
  {
   "cell_type": "code",
   "execution_count": 4,
   "metadata": {
    "tags": []
   },
   "outputs": [
    {
     "name": "stdout",
     "output_type": "stream",
     "text": [
      "Total Players\n",
      "576\n"
     ]
    }
   ],
   "source": [
    "unique_value = purchase_data_df[\"SN\"].nunique()\n",
    "print(\"Total Players\")\n",
    "print(unique_value)"
   ]
  },
  {
   "cell_type": "code",
   "execution_count": 5,
   "metadata": {},
   "outputs": [
    {
     "data": {
      "text/html": [
       "<div>\n",
       "<style scoped>\n",
       "    .dataframe tbody tr th:only-of-type {\n",
       "        vertical-align: middle;\n",
       "    }\n",
       "\n",
       "    .dataframe tbody tr th {\n",
       "        vertical-align: top;\n",
       "    }\n",
       "\n",
       "    .dataframe thead th {\n",
       "        text-align: right;\n",
       "    }\n",
       "</style>\n",
       "<table border=\"1\" class=\"dataframe\">\n",
       "  <thead>\n",
       "    <tr style=\"text-align: right;\">\n",
       "      <th></th>\n",
       "      <th>Total Players</th>\n",
       "    </tr>\n",
       "  </thead>\n",
       "  <tbody>\n",
       "    <tr>\n",
       "      <th>0</th>\n",
       "      <td>576</td>\n",
       "    </tr>\n",
       "  </tbody>\n",
       "</table>\n",
       "</div>"
      ],
      "text/plain": [
       "   Total Players\n",
       "0            576"
      ]
     },
     "execution_count": 5,
     "metadata": {},
     "output_type": "execute_result"
    }
   ],
   "source": [
    "summary_df = pd.DataFrame({\"Total Players\": [unique_value]})\n",
    "summary_df"
   ]
  },
  {
   "cell_type": "code",
   "execution_count": 6,
   "metadata": {
    "tags": []
   },
   "outputs": [
    {
     "name": "stdout",
     "output_type": "stream",
     "text": [
      "179\n"
     ]
    }
   ],
   "source": [
    "Num_unique = len(purchase_data_df[\"Item ID\"].unique())\n",
    "print(Num_unique)"
   ]
  },
  {
   "cell_type": "code",
   "execution_count": 7,
   "metadata": {
    "tags": []
   },
   "outputs": [
    {
     "name": "stdout",
     "output_type": "stream",
     "text": [
      "3.050987179487176\n"
     ]
    }
   ],
   "source": [
    "Average_price = purchase_data_df[\"Price\"].mean()\n",
    "print(Average_price)"
   ]
  },
  {
   "cell_type": "code",
   "execution_count": 8,
   "metadata": {
    "tags": []
   },
   "outputs": [
    {
     "name": "stdout",
     "output_type": "stream",
     "text": [
      "780\n"
     ]
    }
   ],
   "source": [
    "Num_purchase = purchase_data_df[\"Purchase ID\"].count()\n",
    "print(Num_purchase)"
   ]
  },
  {
   "cell_type": "code",
   "execution_count": 9,
   "metadata": {
    "tags": []
   },
   "outputs": [
    {
     "name": "stdout",
     "output_type": "stream",
     "text": [
      "2379.77\n"
     ]
    }
   ],
   "source": [
    "Total_revenue = purchase_data_df[\"Price\"].sum()\n",
    "print(Total_revenue)"
   ]
  },
  {
   "cell_type": "code",
   "execution_count": 10,
   "metadata": {},
   "outputs": [
    {
     "data": {
      "text/html": [
       "<div>\n",
       "<style scoped>\n",
       "    .dataframe tbody tr th:only-of-type {\n",
       "        vertical-align: middle;\n",
       "    }\n",
       "\n",
       "    .dataframe tbody tr th {\n",
       "        vertical-align: top;\n",
       "    }\n",
       "\n",
       "    .dataframe thead th {\n",
       "        text-align: right;\n",
       "    }\n",
       "</style>\n",
       "<table border=\"1\" class=\"dataframe\">\n",
       "  <thead>\n",
       "    <tr style=\"text-align: right;\">\n",
       "      <th></th>\n",
       "      <th>Number of Unique Items</th>\n",
       "      <th>Average Price</th>\n",
       "      <th>Number of Purchases</th>\n",
       "      <th>Total Revenue</th>\n",
       "    </tr>\n",
       "  </thead>\n",
       "  <tbody>\n",
       "    <tr>\n",
       "      <th>0</th>\n",
       "      <td>179</td>\n",
       "      <td>Average_price</td>\n",
       "      <td>780</td>\n",
       "      <td>2379.77</td>\n",
       "    </tr>\n",
       "  </tbody>\n",
       "</table>\n",
       "</div>"
      ],
      "text/plain": [
       "   Number of Unique Items  Average Price  Number of Purchases  Total Revenue\n",
       "0                     179  Average_price                  780        2379.77"
      ]
     },
     "execution_count": 10,
     "metadata": {},
     "output_type": "execute_result"
    }
   ],
   "source": [
    "summary_df = pd.DataFrame({\"Number of Unique Items\": [Num_unique],\n",
    "                              \"Average Price\": ['Average_price'],\n",
    "                              \"Number of Purchases\": [Num_purchase],\n",
    "\n",
    "                              \"Total Revenue\": [Total_revenue]})\n",
    "summary_df"
   ]
  },
  {
   "cell_type": "code",
   "execution_count": 11,
   "metadata": {},
   "outputs": [
    {
     "data": {
      "text/html": [
       "<div>\n",
       "<style scoped>\n",
       "    .dataframe tbody tr th:only-of-type {\n",
       "        vertical-align: middle;\n",
       "    }\n",
       "\n",
       "    .dataframe tbody tr th {\n",
       "        vertical-align: top;\n",
       "    }\n",
       "\n",
       "    .dataframe thead th {\n",
       "        text-align: right;\n",
       "    }\n",
       "</style>\n",
       "<table border=\"1\" class=\"dataframe\">\n",
       "  <thead>\n",
       "    <tr style=\"text-align: right;\">\n",
       "      <th></th>\n",
       "      <th>Total Count</th>\n",
       "      <th>Percentage of Players</th>\n",
       "    </tr>\n",
       "  </thead>\n",
       "  <tbody>\n",
       "    <tr>\n",
       "      <th>Male</th>\n",
       "      <td>484</td>\n",
       "      <td>84.03%</td>\n",
       "    </tr>\n",
       "    <tr>\n",
       "      <th>Female</th>\n",
       "      <td>81</td>\n",
       "      <td>14.06%</td>\n",
       "    </tr>\n",
       "    <tr>\n",
       "      <th>Other / Non-Disclosed</th>\n",
       "      <td>11</td>\n",
       "      <td>1.91%</td>\n",
       "    </tr>\n",
       "  </tbody>\n",
       "</table>\n",
       "</div>"
      ],
      "text/plain": [
       "                       Total Count Percentage of Players\n",
       "Male                           484                84.03%\n",
       "Female                          81                14.06%\n",
       "Other / Non-Disclosed           11                 1.91%"
      ]
     },
     "execution_count": 11,
     "metadata": {},
     "output_type": "execute_result"
    }
   ],
   "source": [
    "pdfmale = purchase_data_df.copy()\n",
    "pdffemale = purchase_data_df.copy()\n",
    "pdfother = purchase_data_df.copy()\n",
    "\n",
    "unique_sn_males = purchase_data_df[['SN','Gender']]\n",
    "filter_male = pdfmale['Gender']==\"Male\"\n",
    "filter_female = pdffemale['Gender']==\"Female\"\n",
    "filter_other = pdfother['Gender']==\"Other / Non-Disclosed\"\n",
    "\n",
    "pdfmale.where(filter_male,inplace=True)\n",
    "pdffemale.where(filter_female,inplace=True)\n",
    "pdfother.where(filter_other,inplace=True)\n",
    "\n",
    "summary_df = pd.DataFrame({\"Total Count\": [pdfmale['SN'].nunique(),pdffemale['SN'].nunique(),pdfother['SN'].nunique()], \n",
    "\"Percentage of Players\":['{:,.2%}'.format(pdfmale['SN'].nunique() / unique_value),'{:,.2%}'.format(pdffemale['SN'].nunique()/unique_value),'{:,.2%}'.format(pdfother['SN'].nunique()/unique_value)]},\n",
    "index=['Male', 'Female', 'Other / Non-Disclosed'])\n",
    "\n",
    "summary_df\n"
   ]
  },
  {
   "cell_type": "code",
   "execution_count": 12,
   "metadata": {},
   "outputs": [
    {
     "data": {
      "text/html": [
       "<div>\n",
       "<style scoped>\n",
       "    .dataframe tbody tr th:only-of-type {\n",
       "        vertical-align: middle;\n",
       "    }\n",
       "\n",
       "    .dataframe tbody tr th {\n",
       "        vertical-align: top;\n",
       "    }\n",
       "\n",
       "    .dataframe thead th {\n",
       "        text-align: right;\n",
       "    }\n",
       "</style>\n",
       "<table border=\"1\" class=\"dataframe\">\n",
       "  <thead>\n",
       "    <tr style=\"text-align: right;\">\n",
       "      <th></th>\n",
       "      <th>Purchase Count</th>\n",
       "      <th>Average Purchase Price</th>\n",
       "      <th>Total Purchase Value</th>\n",
       "      <th>Avg Total Purchase per Person</th>\n",
       "    </tr>\n",
       "  </thead>\n",
       "  <tbody>\n",
       "    <tr>\n",
       "      <th>Gender</th>\n",
       "      <td></td>\n",
       "      <td></td>\n",
       "      <td></td>\n",
       "      <td></td>\n",
       "    </tr>\n",
       "    <tr>\n",
       "      <th>Female</th>\n",
       "      <td>113</td>\n",
       "      <td>$3.20</td>\n",
       "      <td>$361.94</td>\n",
       "      <td>$4.47</td>\n",
       "    </tr>\n",
       "    <tr>\n",
       "      <th>Male</th>\n",
       "      <td>652</td>\n",
       "      <td>$3.02</td>\n",
       "      <td>$1,967.64</td>\n",
       "      <td>$4.07</td>\n",
       "    </tr>\n",
       "    <tr>\n",
       "      <th>Other / Non-Disclosed</th>\n",
       "      <td>15</td>\n",
       "      <td>$3.35</td>\n",
       "      <td>$50.19</td>\n",
       "      <td>$4.56</td>\n",
       "    </tr>\n",
       "  </tbody>\n",
       "</table>\n",
       "</div>"
      ],
      "text/plain": [
       "                      Purchase Count Average Purchase Price  \\\n",
       "Gender                                                        \n",
       "Female                           113                  $3.20   \n",
       "Male                             652                  $3.02   \n",
       "Other / Non-Disclosed             15                  $3.35   \n",
       "\n",
       "                      Total Purchase Value Avg Total Purchase per Person  \n",
       "Gender                                                                    \n",
       "Female                             $361.94                         $4.47  \n",
       "Male                             $1,967.64                         $4.07  \n",
       "Other / Non-Disclosed               $50.19                         $4.56  "
      ]
     },
     "execution_count": 12,
     "metadata": {},
     "output_type": "execute_result"
    }
   ],
   "source": [
    "pdfmale = purchase_data_df.copy()\n",
    "pdffemale = purchase_data_df.copy()\n",
    "pdfother = purchase_data_df.copy()\n",
    "\n",
    "filter_male = pdfmale['Gender']==\"Male\"\n",
    "filter_female = pdffemale['Gender']==\"Female\"\n",
    "filter_other = pdfother['Gender']==\"Other / Non-Disclosed\"\n",
    "\n",
    "pdfmale.where(filter_male,inplace=True)\n",
    "pdffemale.where(filter_female,inplace=True)\n",
    "pdfother.where(filter_other,inplace=True)\n",
    "\n",
    "summary_df = pd.DataFrame({\"Purchase Count\": [\"\",pdffemale['SN'].count(),pdfmale['SN'].count(),pdfother['SN'].count()],\n",
    "\"Average Purchase Price\": [\"\",'${:,.2f}'.format(pdffemale['Price'].mean()),'${:,.2f}'.format(pdfmale['Price'].mean()),'${:,.2f}'.format(pdfother['Price'].mean())],\n",
    "\"Total Purchase Value\": [\"\",'${:,.2f}'.format(pdffemale['Price'].sum()),'${:,.2f}'.format(pdfmale['Price'].sum()),'${:,.2f}'.format(pdfother['Price'].sum())],\n",
    "\"Avg Total Purchase per Person\": [\"\",'${:,.2f}'.format(pdffemale['Price'].sum()/pdffemale['SN'].nunique()),'${:,.2f}'.format(pdfmale['Price'].sum()/pdfmale['SN'].nunique()),'${:,.2f}'.format(pdfother['Price'].sum()/pdfother['SN'].nunique())]\n",
    "},\n",
    "index=['Gender','Female','Male', 'Other / Non-Disclosed'])\n",
    "\n",
    "summary_df\n"
   ]
  },
  {
   "cell_type": "code",
   "execution_count": 13,
   "metadata": {},
   "outputs": [
    {
     "data": {
      "text/html": [
       "<div>\n",
       "<style scoped>\n",
       "    .dataframe tbody tr th:only-of-type {\n",
       "        vertical-align: middle;\n",
       "    }\n",
       "\n",
       "    .dataframe tbody tr th {\n",
       "        vertical-align: top;\n",
       "    }\n",
       "\n",
       "    .dataframe thead th {\n",
       "        text-align: right;\n",
       "    }\n",
       "</style>\n",
       "<table border=\"1\" class=\"dataframe\">\n",
       "  <thead>\n",
       "    <tr style=\"text-align: right;\">\n",
       "      <th></th>\n",
       "      <th>Total Count</th>\n",
       "      <th>Percentage of Players</th>\n",
       "    </tr>\n",
       "  </thead>\n",
       "  <tbody>\n",
       "    <tr>\n",
       "      <th>&lt;10</th>\n",
       "      <td>17</td>\n",
       "      <td>2.95%</td>\n",
       "    </tr>\n",
       "    <tr>\n",
       "      <th>10-14</th>\n",
       "      <td>22</td>\n",
       "      <td>3.82%</td>\n",
       "    </tr>\n",
       "    <tr>\n",
       "      <th>15-19</th>\n",
       "      <td>107</td>\n",
       "      <td>18.58%</td>\n",
       "    </tr>\n",
       "    <tr>\n",
       "      <th>20-24</th>\n",
       "      <td>258</td>\n",
       "      <td>44.79%</td>\n",
       "    </tr>\n",
       "    <tr>\n",
       "      <th>25-29</th>\n",
       "      <td>77</td>\n",
       "      <td>13.37%</td>\n",
       "    </tr>\n",
       "    <tr>\n",
       "      <th>30-34</th>\n",
       "      <td>52</td>\n",
       "      <td>9.03%</td>\n",
       "    </tr>\n",
       "    <tr>\n",
       "      <th>35-39</th>\n",
       "      <td>31</td>\n",
       "      <td>5.38%</td>\n",
       "    </tr>\n",
       "    <tr>\n",
       "      <th>40+</th>\n",
       "      <td>12</td>\n",
       "      <td>2.08%</td>\n",
       "    </tr>\n",
       "  </tbody>\n",
       "</table>\n",
       "</div>"
      ],
      "text/plain": [
       "       Total Count Percentage of Players\n",
       "<10             17                 2.95%\n",
       "10-14           22                 3.82%\n",
       "15-19          107                18.58%\n",
       "20-24          258                44.79%\n",
       "25-29           77                13.37%\n",
       "30-34           52                 9.03%\n",
       "35-39           31                 5.38%\n",
       "40+             12                 2.08%"
      ]
     },
     "execution_count": 13,
     "metadata": {},
     "output_type": "execute_result"
    }
   ],
   "source": [
    "\n",
    "\n",
    "pdfage = purchase_data_df.copy()\n",
    "\n",
    "summary_df = pd.DataFrame(\n",
    "{\n",
    "    \"Total Count\":[\n",
    "        pdfage.where(pdfage['Age']<10)['SN'].nunique(),\n",
    "        pdfage.where(pdfage['Age'].between(10,14))['SN'].nunique(),\n",
    "        pdfage.where(pdfage['Age'].between(15,19))['SN'].nunique(),\n",
    "        pdfage.where(pdfage['Age'].between(20,24))['SN'].nunique(),\n",
    "        pdfage.where(pdfage['Age'].between(25,29))['SN'].nunique(),\n",
    "        pdfage.where(pdfage['Age'].between(30,34))['SN'].nunique(),\n",
    "        pdfage.where(pdfage['Age'].between(35,39))['SN'].nunique(),\n",
    "        pdfage.where(pdfage['Age']>=40)['SN'].nunique()\n",
    "        ],\n",
    "\"Percentage of Players\":[\n",
    "    '{:,.2%}'.format(pdfage.where(pdfage['Age']<10)['SN'].nunique()/pdfage['SN'].nunique()),\n",
    "    '{:,.2%}'.format(pdfage.where(pdfage['Age'].between(10,14))['SN'].nunique()/pdfage['SN'].nunique()),\n",
    "    '{:,.2%}'.format(pdfage.where(pdfage['Age'].between(15,19))['SN'].nunique()/pdfage['SN'].nunique()),\n",
    "    '{:,.2%}'.format(pdfage.where(pdfage['Age'].between(20,24))['SN'].nunique()/pdfage['SN'].nunique()),\n",
    "    '{:,.2%}'.format(pdfage.where(pdfage['Age'].between(25,29))['SN'].nunique()/pdfage['SN'].nunique()),\n",
    "    '{:,.2%}'.format(pdfage.where(pdfage['Age'].between(30,34))['SN'].nunique()/pdfage['SN'].nunique()),\n",
    "    '{:,.2%}'.format(pdfage.where(pdfage['Age'].between(35,39))['SN'].nunique()/pdfage['SN'].nunique()),\n",
    "    '{:,.2%}'.format(pdfage.where(pdfage['Age']>=40)['SN'].nunique()/pdfage['SN'].nunique())]\n",
    "    },\n",
    "index=['<10','10-14','15-19','20-24','25-29','30-34','35-39','40+'])\n",
    "summary_df"
   ]
  },
  {
   "cell_type": "code",
   "execution_count": 14,
   "metadata": {},
   "outputs": [
    {
     "data": {
      "text/html": [
       "<div>\n",
       "<style scoped>\n",
       "    .dataframe tbody tr th:only-of-type {\n",
       "        vertical-align: middle;\n",
       "    }\n",
       "\n",
       "    .dataframe tbody tr th {\n",
       "        vertical-align: top;\n",
       "    }\n",
       "\n",
       "    .dataframe thead th {\n",
       "        text-align: right;\n",
       "    }\n",
       "</style>\n",
       "<table border=\"1\" class=\"dataframe\">\n",
       "  <thead>\n",
       "    <tr style=\"text-align: right;\">\n",
       "      <th></th>\n",
       "      <th>Purchase Count</th>\n",
       "      <th>Average Purchase Price</th>\n",
       "      <th>Total Purchase Value</th>\n",
       "      <th>Avg Total Purchase per Person</th>\n",
       "    </tr>\n",
       "  </thead>\n",
       "  <tbody>\n",
       "    <tr>\n",
       "      <th>&lt;10</th>\n",
       "      <td>23</td>\n",
       "      <td>$3.35</td>\n",
       "      <td>$77.13</td>\n",
       "      <td>$4.54</td>\n",
       "    </tr>\n",
       "    <tr>\n",
       "      <th>10-14</th>\n",
       "      <td>28</td>\n",
       "      <td>$2.96</td>\n",
       "      <td>$82.78</td>\n",
       "      <td>$3.76</td>\n",
       "    </tr>\n",
       "    <tr>\n",
       "      <th>15-19</th>\n",
       "      <td>136</td>\n",
       "      <td>$3.04</td>\n",
       "      <td>$412.89</td>\n",
       "      <td>$3.86</td>\n",
       "    </tr>\n",
       "    <tr>\n",
       "      <th>20-24</th>\n",
       "      <td>365</td>\n",
       "      <td>$3.05</td>\n",
       "      <td>$1,114.06</td>\n",
       "      <td>$4.32</td>\n",
       "    </tr>\n",
       "    <tr>\n",
       "      <th>25-29</th>\n",
       "      <td>101</td>\n",
       "      <td>$2.90</td>\n",
       "      <td>$293.00</td>\n",
       "      <td>$3.81</td>\n",
       "    </tr>\n",
       "    <tr>\n",
       "      <th>30-34</th>\n",
       "      <td>73</td>\n",
       "      <td>$2.93</td>\n",
       "      <td>$214.00</td>\n",
       "      <td>$4.12</td>\n",
       "    </tr>\n",
       "    <tr>\n",
       "      <th>35-39</th>\n",
       "      <td>41</td>\n",
       "      <td>$3.60</td>\n",
       "      <td>$147.67</td>\n",
       "      <td>$4.76</td>\n",
       "    </tr>\n",
       "    <tr>\n",
       "      <th>40+</th>\n",
       "      <td>13</td>\n",
       "      <td>$2.94</td>\n",
       "      <td>$38.24</td>\n",
       "      <td>$3.19</td>\n",
       "    </tr>\n",
       "  </tbody>\n",
       "</table>\n",
       "</div>"
      ],
      "text/plain": [
       "       Purchase Count Average Purchase Price Total Purchase Value  \\\n",
       "<10                23                  $3.35               $77.13   \n",
       "10-14              28                  $2.96               $82.78   \n",
       "15-19             136                  $3.04              $412.89   \n",
       "20-24             365                  $3.05            $1,114.06   \n",
       "25-29             101                  $2.90              $293.00   \n",
       "30-34              73                  $2.93              $214.00   \n",
       "35-39              41                  $3.60              $147.67   \n",
       "40+                13                  $2.94               $38.24   \n",
       "\n",
       "      Avg Total Purchase per Person  \n",
       "<10                           $4.54  \n",
       "10-14                         $3.76  \n",
       "15-19                         $3.86  \n",
       "20-24                         $4.32  \n",
       "25-29                         $3.81  \n",
       "30-34                         $4.12  \n",
       "35-39                         $4.76  \n",
       "40+                           $3.19  "
      ]
     },
     "execution_count": 14,
     "metadata": {},
     "output_type": "execute_result"
    }
   ],
   "source": [
    "\n",
    "\n",
    "pdfage = purchase_data_df.copy()\n",
    "\n",
    "summary_df = pd.DataFrame(\n",
    "{\n",
    "    \"Purchase Count\":[\n",
    "        pdfage.where(pdfage['Age']<10)['SN'].count(),\n",
    "        pdfage.where(pdfage['Age'].between(10,14))['SN'].count(),\n",
    "        pdfage.where(pdfage['Age'].between(15,19))['SN'].count(),\n",
    "        pdfage.where(pdfage['Age'].between(20,24))['SN'].count(),\n",
    "        pdfage.where(pdfage['Age'].between(25,29))['SN'].count(),\n",
    "        pdfage.where(pdfage['Age'].between(30,34))['SN'].count(),\n",
    "        pdfage.where(pdfage['Age'].between(35,39))['SN'].count(),\n",
    "        pdfage.where(pdfage['Age']>=40)['SN'].count()\n",
    "        ],\n",
    "\"Average Purchase Price\":[\n",
    "    '${:,.2f}'.format(pdfage.where(pdfage['Age']<10)['Price'].sum()/pdfage.where(pdfage['Age']<10)['SN'].count()),\n",
    "    '${:,.2f}'.format(pdfage.where(pdfage['Age'].between(10,14))['Price'].sum()/pdfage.where(pdfage['Age'].between(10,14))['SN'].count()),\n",
    "    '${:,.2f}'.format(pdfage.where(pdfage['Age'].between(15,19))['Price'].sum()/pdfage.where(pdfage['Age'].between(15,19))['SN'].count()),\n",
    "    '${:,.2f}'.format(pdfage.where(pdfage['Age'].between(20,24))['Price'].sum()/pdfage.where(pdfage['Age'].between(20,24))['SN'].count()),\n",
    "    '${:,.2f}'.format(pdfage.where(pdfage['Age'].between(25,29))['Price'].sum()/pdfage.where(pdfage['Age'].between(25,29))['SN'].count()),\n",
    "    '${:,.2f}'.format(pdfage.where(pdfage['Age'].between(30,34))['Price'].sum()/pdfage.where(pdfage['Age'].between(30,34))['SN'].count()),\n",
    "    '${:,.2f}'.format(pdfage.where(pdfage['Age'].between(35,39))['Price'].sum()/pdfage.where(pdfage['Age'].between(35,39))['SN'].count()),\n",
    "    '${:,.2f}'.format(pdfage.where(pdfage['Age']>=40)['Price'].sum()/pdfage.where(pdfage['Age']>=40)['SN'].count())],\n",
    "    \"Total Purchase Value\":[\n",
    "    '${:,.2f}'.format(pdfage.where(pdfage['Age']<10)['Price'].sum()),\n",
    "    '${:,.2f}'.format(pdfage.where(pdfage['Age'].between(10,14))['Price'].sum()),\n",
    "    '${:,.2f}'.format(pdfage.where(pdfage['Age'].between(15,19))['Price'].sum()),\n",
    "    '${:,.2f}'.format(pdfage.where(pdfage['Age'].between(20,24))['Price'].sum()),\n",
    "    '${:,.2f}'.format(pdfage.where(pdfage['Age'].between(25,29))['Price'].sum()),\n",
    "    '${:,.2f}'.format(pdfage.where(pdfage['Age'].between(30,34))['Price'].sum()),\n",
    "    '${:,.2f}'.format(pdfage.where(pdfage['Age'].between(35,39))['Price'].sum()),\n",
    "    '${:,.2f}'.format(pdfage.where(pdfage['Age']>=40)['Price'].sum())],\n",
    "    \"Avg Total Purchase per Person\":[\n",
    "    '${:,.2f}'.format(pdfage.where(pdfage['Age']<10)['Price'].sum()/pdfage.where(pdfage['Age']<10)['SN'].nunique()),\n",
    "    '${:,.2f}'.format(pdfage.where(pdfage['Age'].between(10,14))['Price'].sum()/pdfage.where(pdfage['Age'].between(10,14))['SN'].nunique()),\n",
    "    '${:,.2f}'.format(pdfage.where(pdfage['Age'].between(15,19))['Price'].sum()/pdfage.where(pdfage['Age'].between(15,19))['SN'].nunique()),\n",
    "    '${:,.2f}'.format(pdfage.where(pdfage['Age'].between(20,24))['Price'].sum()/pdfage.where(pdfage['Age'].between(20,24))['SN'].nunique()),\n",
    "    '${:,.2f}'.format(pdfage.where(pdfage['Age'].between(25,29))['Price'].sum()/pdfage.where(pdfage['Age'].between(25,29))['SN'].nunique()),\n",
    "    '${:,.2f}'.format(pdfage.where(pdfage['Age'].between(30,34))['Price'].sum()/pdfage.where(pdfage['Age'].between(30,34))['SN'].nunique()),\n",
    "    '${:,.2f}'.format(pdfage.where(pdfage['Age'].between(35,39))['Price'].sum()/pdfage.where(pdfage['Age'].between(35,39))['SN'].nunique()),\n",
    "    '${:,.2f}'.format(pdfage.where(pdfage['Age']>=40)['Price'].sum()/pdfage.where(pdfage['Age']>=40)['SN'].nunique())]\n",
    "    },\n",
    "index=['<10','10-14','15-19','20-24','25-29','30-34','35-39','40+'])\n",
    "summary_df"
   ]
  },
  {
   "cell_type": "code",
   "execution_count": 15,
   "metadata": {},
   "outputs": [
    {
     "name": "stdout",
     "output_type": "stream",
     "text": [
      "             Purchase_Count  Average_Purchase_Price  Total_Purchase_Value\n",
      "SN                                                                       \n",
      "Lisosia93                 5                   $3.79                $18.96\n",
      "Idastidru52               4                   $3.86                $15.45\n",
      "Chamjask73                3                   $4.61                $13.83\n",
      "Iral74                    4                   $3.40                $13.62\n",
      "Iskadarya95               3                   $4.37                $13.10\n"
     ]
    }
   ],
   "source": [
    "pdfpage = purchase_data_df.copy()\n",
    "  \n",
    "\n",
    "filtergrid = pdfpage.groupby('SN').agg(\n",
    " \n",
    "    Purchase_Count = ('SN', 'count'),\n",
    "    Average_Purchase_Price = ('Price', 'mean'),\n",
    "    Total_Purchase_Value=('Price', sum)\n",
    "    \n",
    ")\n",
    "pd.options.display.float_format = '${:.2f}'.format\n",
    "print(filtergrid.sort_values(['Total_Purchase_Value'],ascending = False).head(5))\n",
    "\n"
   ]
  },
  {
   "cell_type": "code",
   "execution_count": null,
   "metadata": {},
   "outputs": [],
   "source": []
  }
 ],
 "metadata": {
  "kernelspec": {
   "display_name": "Python 3",
   "language": "python",
   "name": "python3"
  },
  "language_info": {
   "codemirror_mode": {
    "name": "ipython",
    "version": 3
   },
   "file_extension": ".py",
   "mimetype": "text/x-python",
   "name": "python",
   "nbconvert_exporter": "python",
   "pygments_lexer": "ipython3",
   "version": "3.8.3"
  }
 },
 "nbformat": 4,
 "nbformat_minor": 4
}
